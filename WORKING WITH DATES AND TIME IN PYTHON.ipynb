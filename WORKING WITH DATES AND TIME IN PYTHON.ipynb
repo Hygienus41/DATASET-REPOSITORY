{
 "cells": [
  {
   "cell_type": "markdown",
   "id": "f491677e-6871-4f06-a327-b5d08d18ea20",
   "metadata": {},
   "source": [
    "# Which day of the week?\n",
    "Hurricane Andrew, which hit Florida on August 24, 1992, was one of the costliest and deadliest hurricanes in US history. Which day of the week did it make landfall?\n",
    "\n",
    "Let's walk through all of the steps to figure this out.\n",
    "\n"
   ]
  },
  {
   "cell_type": "code",
   "execution_count": null,
   "id": "b371009b-29ff-4749-a709-a013bd6cf03c",
   "metadata": {},
   "outputs": [],
   "source": [
    "# Import date from datetime\n",
    "from datetime import date\n",
    "\n",
    "# Create a date object\n",
    "hurricane_andrew = date(1992, 8, 24)\n",
    "\n",
    "# Which day of the week is the date?\n",
    "print(hurricane_andrew.weekday())"
   ]
  },
  {
   "cell_type": "markdown",
   "id": "dcabed5a-d33e-4302-aa90-661f5cfcb24f",
   "metadata": {},
   "source": [
    "# How many hurricanes come early?\n",
    "In this chapter, you will work with a list of the hurricanes that made landfall in Florida from 1950 to 2017. There were 235 in total. Check out the variable florida_hurricane_dates, which has all of these dates.\n",
    "\n",
    "Atlantic hurricane season officially begins on June 1. How many hurricanes since 1950 have made landfall in Florida before the official start of hurricane season?"
   ]
  },
  {
   "cell_type": "code",
   "execution_count": null,
   "id": "6a2f8c84-3c87-4c60-a46d-9e8869bc895a",
   "metadata": {},
   "outputs": [],
   "source": [
    "# Counter for how many before June 1\n",
    "early_hurricanes = 0\n",
    "\n",
    "# We loop over the dates\n",
    "for hurricane in florida_hurricane_dates:\n",
    "  # Check if the month is before June (month number 6)\n",
    "  if hurricane.month < 6:\n",
    "    early_hurricanes = early_hurricanes + 1\n",
    "    \n",
    "print(early_hurricanes)"
   ]
  },
  {
   "cell_type": "markdown",
   "id": "7b3ea397-3080-4386-ae1b-8410602a2a05",
   "metadata": {},
   "source": [
    "# Subtracting dates\n",
    "Python date objects let us treat calendar dates as something similar to numbers: we can compare them, sort them, add, and even subtract them. This lets us do math with dates in a way that would be a pain to do by hand.\n",
    "\n",
    "The 2007 Florida hurricane season was one of the busiest on record, with 8 hurricanes in one year. The first one hit on May 9th, 2007, and the last one hit on December 13th, 2007. How many days elapsed between the first and last hurricane in 2007?"
   ]
  },
  {
   "cell_type": "code",
   "execution_count": null,
   "id": "f45c75b1-520b-480b-b0cb-bf253c7540b0",
   "metadata": {},
   "outputs": [],
   "source": [
    "# Import date\n",
    "from datetime import date\n",
    "\n",
    "# Create a date object for May 9th, 2007\n",
    "start = date(2007, 5, 9)\n",
    "\n",
    "# Create a date object for December 13th, 2007\n",
    "end = date(2007, 12, 13)\n",
    "\n",
    "# Subtract the two dates and print the number of days\n",
    "print((end - start).days)"
   ]
  },
  {
   "cell_type": "markdown",
   "id": "71cee877-d4fd-4d7b-9f62-56314659f768",
   "metadata": {},
   "source": [
    "# Counting events per calendar month\n",
    "Hurricanes can make landfall in Florida throughout the year. As we've already discussed, some months are more hurricane-prone than others.\n",
    "\n",
    "Using florida_hurricane_dates, let's see how hurricanes in Florida were distributed across months throughout the year.\n",
    "\n",
    "We've created a dictionary called hurricanes_each_month to hold your counts and set the initial counts to zero. You will loop over the list of hurricanes, incrementing the correct month in hurricanes_each_month as you go, and then print the result."
   ]
  },
  {
   "cell_type": "code",
   "execution_count": null,
   "id": "9e23ba60-5a65-438d-ab70-d1d2247e7b42",
   "metadata": {},
   "outputs": [],
   "source": [
    "# A dictionary to count hurricanes per calendar month\n",
    "hurricanes_each_month = {1: 0, 2: 0, 3: 0, 4: 0, 5: 0, 6:0,\n",
    "\t\t  \t\t\t\t 7: 0, 8:0, 9:0, 10:0, 11:0, 12:0}\n",
    "\n",
    "# Loop over all hurricanes\n",
    "for hurricane in florida_hurricane_dates:\n",
    "  # Pull out the month\n",
    "  month = hurricane.month\n",
    "  # Increment the count in your dictionary by one\n",
    "  hurricanes_each_month[month] +=1\n",
    "  \n",
    "print(hurricanes_each_month)"
   ]
  },
  {
   "cell_type": "markdown",
   "id": "acb892f9-c940-4657-ab87-9968e789438b",
   "metadata": {},
   "source": [
    "# Putting a list of dates in order\n",
    "Much like numbers and strings, date objects in Python can be put in order. Earlier dates come before later ones, and so we can sort a list of date objects from earliest to latest.\n",
    "\n",
    "What if our Florida hurricane dates had been scrambled? We've gone ahead and shuffled them so they're in random order and saved the results as dates_scrambled. Your job is to put them back in chronological order, and then print the first and last dates from this sorted list."
   ]
  },
  {
   "cell_type": "code",
   "execution_count": null,
   "id": "30a4c8b2-4a7c-487f-8e60-1b76b66bc6dc",
   "metadata": {},
   "outputs": [],
   "source": [
    "# Print the first and last scrambled dates\n",
    "print(dates_scrambled[0])\n",
    "print(dates_scrambled[-1])\n",
    "\n",
    "# Put the dates in order\n",
    "dates_ordered = sorted(dates_scrambled)\n",
    "\n",
    "# Print the first and last ordered dates\n",
    "print(dates_ordered[0])\n",
    "print(dates_ordered[-1])"
   ]
  },
  {
   "cell_type": "markdown",
   "id": "bc9bc021-d583-41d3-beca-18ef4a9a0279",
   "metadata": {},
   "source": [
    "# Printing dates in a friendly format\n",
    "Because people may want to see dates in many different formats, Python comes with very flexible functions for turning date objects into strings.\n",
    "\n",
    "Let's see what event was recorded first in the Florida hurricane data set. In this exercise, you will format the earliest date in the florida_hurricane_dates list in two ways so you can decide which one you want to use: either the ISO standard or the typical US style.\n",
    "\n",
    "\n",
    "Assign the earliest date in florida_hurricane_dates to first_date.\n",
    "\n",
    "Print first_date in the ISO standard. For example, December 1st, 2000 would be \"2000-12-01\".\n",
    "\n",
    "Print first_date in the US style, using .strftime(). For example, December 1st, 2000 would be \"12/1/2000\"."
   ]
  },
  {
   "cell_type": "code",
   "execution_count": null,
   "id": "c94fce47-7f62-4f93-8ef4-a390aa6aa6c1",
   "metadata": {},
   "outputs": [],
   "source": [
    "# Assign the earliest date to first_date\n",
    "first_date = min(florida_hurricane_dates)\n",
    "\n",
    "# Convert to ISO and US formats\n",
    "iso = \"Our earliest hurricane date: \" + first_date.isoformat()\n",
    "us = \"Our earliest hurricane date: \" + first_date.strftime(\"%m/%d/%Y\")\n",
    "\n",
    "print(\"ISO: \" + iso)\n",
    "print(\"US: \" + us)"
   ]
  },
  {
   "cell_type": "markdown",
   "id": "d19456cb-c3f1-4376-8044-52fe0ce72add",
   "metadata": {},
   "source": [
    "# Representing dates in different ways\n",
    "date objects in Python have a great number of ways they can be printed out as strings. In some cases, you want to know the date in a clear, language-agnostic format. In other cases, you want something which can fit into a paragraph and flow naturally.\n",
    "\n",
    "Let's try printing out the same date, August 26, 1992 (the day that Hurricane Andrew made landfall in Florida), in a number of different ways, to practice using the .strftime() method.\n",
    "\n",
    "A date object called andrew has already been created.\n",
    "\n",
    "Print andrew in the format 'YYYY-MM'.\n",
    "\n",
    "Print andrew in the format 'MONTH (YYYY)', using %B for the month's full name, which in this case will be August.\n",
    "\n",
    "Print andrew in the format 'YYYY-DDD' (where DDD is the day of the year) using %j."
   ]
  },
  {
   "cell_type": "code",
   "execution_count": null,
   "id": "451d5fe5-82e1-440c-89ff-47ed03d43774",
   "metadata": {},
   "outputs": [],
   "source": [
    "# Import date\n",
    "from datetime import date\n",
    "\n",
    "# Create a date object\n",
    "andrew = date(1992, 8, 26)\n",
    "\n",
    "# Print the date in the format 'YYYY-MM'\n",
    "print(andrew.strftime('%Y-%m'))\n",
    "\n",
    "# Print the date in the format 'MONTH (YYYY)'\n",
    "print(andrew.strftime(\"%B (%Y)\"))\n",
    "\n",
    "# Print the date in the format 'YYYY-DDD'\n",
    "print(andrew.strftime(\"%Y-%j\"))"
   ]
  },
  {
   "cell_type": "markdown",
   "id": "1633c814-c205-4e32-9ae7-76a29dd17f1e",
   "metadata": {},
   "source": [
    "## CHAPTER 2; COMBINING DATE AND TIME"
   ]
  },
  {
   "cell_type": "markdown",
   "id": "3b8999cb-d5e5-4aee-a069-7656a1a1cb81",
   "metadata": {},
   "source": [
    "# Creating datetimes by hand\n",
    "Often you create datetime objects based on outside data. Sometimes though, you want to create a datetime object from scratch.\n",
    "\n",
    "You're going to create a few different datetime objects from scratch to get the hang of that process. These come from the bikeshare data set that you'll use throughout the rest of the chapter."
   ]
  },
  {
   "cell_type": "code",
   "execution_count": null,
   "id": "5c88a13e-dce5-43e0-9daa-7c29a91ed341",
   "metadata": {},
   "outputs": [],
   "source": [
    "# Import datetime\n",
    "from datetime import datetime\n",
    "\n",
    "# Create a datetime object\n",
    "dt = datetime(2017, 10, 1, 15, 26, 26)\n",
    "# Print the results in ISO 8601 format\n",
    "print(dt.isoformat())\n",
    "\n",
    "# Create a datetime object\n",
    "dt = datetime(2017,12,31,15,19,13)\n",
    "# Print the results in ISO 8601 format\n",
    "print(dt.isoformat())\n",
    "\n",
    "# Create a datetime object\n",
    "dt = datetime(2017, 12, 31, 15, 19, 13)\n",
    "# Replace the year with 1917\n",
    "dt_old = dt.replace(year=1917)\n",
    "# Print the results in ISO 8601 format\n",
    "print(dt_old.isoformat())"
   ]
  },
  {
   "cell_type": "markdown",
   "id": "80ee5f1e-75e9-495d-a162-2d57deea9fd3",
   "metadata": {},
   "source": [
    "# Counting events before and after noon\n",
    "In this chapter, you will be working with a list of all bike trips for one Capital Bikeshare bike, W20529, from October 1, 2017 to December 31, 2017. This list has been loaded as onebike_datetimes.\n",
    "\n",
    "Each element of the list is a dictionary with two entries: start is a datetime object corresponding to the start of a trip (when a bike is removed from the dock) and end is a datetime object corresponding to the end of a trip (when a bike is put back into a dock).\n",
    "\n",
    "You can use this data set to understand better how this bike was used. Did more trips start before noon or after noon?"
   ]
  },
  {
   "cell_type": "code",
   "execution_count": null,
   "id": "f0a7b0fb-daec-40b9-9b55-e3493841f55d",
   "metadata": {},
   "outputs": [],
   "source": [
    "# Create dictionary to hold results\n",
    "trip_counts = {'AM': 0, 'PM': 0}\n",
    "  \n",
    "# Loop over all trips\n",
    "for trip in onebike_datetimes:\n",
    "  # Check to see if the trip starts before noon\n",
    "  if trip['start'].hour < 12:\n",
    "    # Increment the counter for before noon\n",
    "    trip_counts[\"AM\"] += 1\n",
    "  else:\n",
    "    # Increment the counter for after noon\n",
    "    trip_counts[\"PM\"] += 1\n",
    "  \n",
    "print(trip_counts)"
   ]
  },
  {
   "cell_type": "markdown",
   "id": "3c8cd373-ce6f-465f-b0eb-21902202c63e",
   "metadata": {},
   "source": [
    "# Turning strings into datetimes\n",
    "When you download data from the Internet, dates and times usually come to you as strings. Often the first step is to turn those strings into datetime objects.\n",
    "\n",
    "In this exercise, you will practice this transformation."
   ]
  },
  {
   "cell_type": "code",
   "execution_count": null,
   "id": "c4fd40f7-88b1-4488-babc-8146ab5f6d10",
   "metadata": {},
   "outputs": [],
   "source": [
    "# Import the datetime class\n",
    "from datetime import datetime\n",
    "\n",
    "# Starting string, in YYYY-MM-DD HH:MM:SS format\n",
    "s = '2017-02-03 00:00:01'\n",
    "# Write a format string to parse s\n",
    "fmt = '%Y-%m-%d %H:%M:%S'\n",
    "\n",
    "# Create a datetime object d\n",
    "d = datetime.strptime(s,fmt)\n",
    "# Print d\n",
    "print(d)\n",
    "\n",
    "\n",
    "\n",
    "# Starting string, in MM/DD/YYYY HH:MM:SS format\n",
    "s = '12/15/1986 08:00:00'\n",
    "# Write a format string to parse s\n",
    "fmt = '%m/%d/%Y %H:%M:%S'\n",
    "# Create a datetime object d\n",
    "d = datetime.strptime(s, fmt)\n",
    "\n",
    "# Print d\n",
    "print(d)"
   ]
  },
  {
   "cell_type": "markdown",
   "id": "52714a62-b7ab-46e0-886c-9282bf3cc1ae",
   "metadata": {},
   "source": [
    "# Parsing pairs of strings as datetimes\n",
    "Up until now, you've been working with a pre-processed list of datetimes for W20529's trips. For this exercise, you're going to go one step back in the data cleaning pipeline and work with the strings that the data started as.\n",
    "\n",
    "Explore onebike_datetime_strings in the IPython shell to determine the correct format. datetime has already been loaded for you."
   ]
  },
  {
   "cell_type": "code",
   "execution_count": null,
   "id": "16aee14e-3b26-4a4e-a029-23fd6150dc10",
   "metadata": {},
   "outputs": [],
   "source": [
    "# Write down the format string\n",
    "fmt = \"%Y-%m-%d %H:%M:%S\"\n",
    "\n",
    "# Initialize a list for holding the pairs of datetime objects\n",
    "onebike_datetimes = []\n",
    "\n",
    "# Loop over all trips\n",
    "for (start, end) in onebike_datetime_strings:\n",
    "  trip = {'start': datetime.strptime(start, fmt),\n",
    "          'end': datetime.strptime(end,fmt)}\n",
    "  \n",
    "  # Append the trip\n",
    "  onebike_datetimes.append(trip)"
   ]
  },
  {
   "cell_type": "markdown",
   "id": "7e3bab9b-b57f-4d71-b1db-61e0ae22c1c1",
   "metadata": {},
   "source": [
    "# Recreating ISO format with strftime()\n",
    "In the last chapter, you used strftime() to create strings from date objects. Now that you know about datetime objects, let's practice doing something similar.\n",
    "\n",
    "Re-create the .isoformat() method, using .strftime(), and print the first trip start in our data set.\n",
    "\n",
    "Complete fmt to match the format of ISO 8601.\n",
    "\n",
    "Print first_start with both .isoformat() and .strftime(); they should match."
   ]
  },
  {
   "cell_type": "code",
   "execution_count": null,
   "id": "ee16bedf-86cf-4e59-b2cf-7203e1362ac2",
   "metadata": {},
   "outputs": [],
   "source": [
    "# Import datetime\n",
    "from datetime import datetime\n",
    "\n",
    "# Pull out the start of the first trip\n",
    "first_start = onebike_datetimes[0]['start']\n",
    "\n",
    "# Format to feed to strftime()\n",
    "fmt = \"%Y-%m-%dT%H:%M:%S\"\n",
    "\n",
    "# Print out date with .isoformat(), then with .strftime() to compare\n",
    "print(first_start.isoformat())\n",
    "print(first_start.strftime(fmt))"
   ]
  },
  {
   "cell_type": "markdown",
   "id": "f9f8e724-665d-45a0-afa1-130ea41081b5",
   "metadata": {},
   "source": [
    "# Unix timestamps\n",
    "Datetimes are sometimes stored as Unix timestamps: the number of seconds since January 1, 1970. This is especially common with computer infrastructure, like the log files that websites keep when they get visitors.\n",
    "\n",
    "Complete the for loop to loop over timestamps.\n",
    "\n",
    "Complete the code to turn each timestamp ts into a datetime."
   ]
  },
  {
   "cell_type": "code",
   "execution_count": null,
   "id": "0bac1c14-c5e9-49f9-ac22-8b41758211e6",
   "metadata": {},
   "outputs": [],
   "source": [
    "# Import datetime\n",
    "from datetime import datetime\n",
    "\n",
    "# Starting timestamps\n",
    "timestamps = [1514665153, 1514664543]\n",
    "\n",
    "# Datetime objects\n",
    "dts = []\n",
    "\n",
    "# Loop\n",
    "for ts in timestamps:\n",
    "  dts.append(datetime.fromtimestamp(ts))\n",
    "  \n",
    "# Print results\n",
    "print(dts)"
   ]
  },
  {
   "cell_type": "markdown",
   "id": "e9396481-6253-4878-b6fd-d21614b68459",
   "metadata": {},
   "source": [
    "## WORKING WITH DURATION"
   ]
  },
  {
   "cell_type": "markdown",
   "id": "3cf7a2c5-549d-4e6b-9cca-932e92f16e44",
   "metadata": {},
   "source": [
    "# Turning pairs of datetimes into durations\n",
    "When working with timestamps, we often want to know how much time has elapsed between events. Thankfully, we can use datetime arithmetic to ask Python to do the heavy lifting for us so we don't need to worry about day, month, or year boundaries. Let's calculate the number of seconds that the bike was out of the dock for each trip.\n",
    "\n",
    "Continuing our work from a previous coding exercise, the bike trip data has been loaded as the list onebike_datetimes. Each element of the list consists of two datetime objects, corresponding to the start and end of a trip, respectively.\n",
    "\n",
    "Within the loop:\n",
    "\n",
    "Use arithmetic on the start and end elements to find the length of the trip\n",
    "\n",
    "Save the results to trip_duration.\n",
    "\n",
    "Calculate trip_length_seconds from trip_duration."
   ]
  },
  {
   "cell_type": "code",
   "execution_count": null,
   "id": "9cbf6d68-4709-4b89-9b99-16f64d36903f",
   "metadata": {},
   "outputs": [],
   "source": [
    "# Initialize a list for all the trip durations\n",
    "onebike_durations = []\n",
    "\n",
    "for trip in onebike_datetimes:\n",
    "  # Create a timedelta object corresponding to the length of the trip\n",
    "  trip_duration = trip['end'] - trip['start']\n",
    "  \n",
    "  # Get the total elapsed seconds in trip_duration\n",
    "  trip_length_seconds = trip_duration.total_seconds()\n",
    "  \n",
    "  # Append the results to our list\n",
    "  onebike_durations.append(trip_length_seconds)"
   ]
  },
  {
   "cell_type": "markdown",
   "id": "69c02112-9734-4ec9-9c01-25df726db8ee",
   "metadata": {},
   "source": [
    "## Average trip time\n",
    "W20529 took 291 trips in our data set. How long were the trips on average? We can use the built-in Python functions sum() and len() to make this calculation.\n",
    "\n",
    "Based on your last coding exercise, the data has been loaded as onebike_durations. Each entry is a number of seconds that the bike was out of the dock.\n",
    "\n",
    "Calculate total_elapsed_time across all trips in onebike_durations.\n",
    "\n",
    "Calculate number_of_trips for onebike_durations.\n",
    "\n",
    "Divide total_elapsed_time by number_of_trips to get the average trip length."
   ]
  },
  {
   "cell_type": "code",
   "execution_count": 1,
   "id": "ae52b9ab-06e0-4759-9c59-1d143d7ef0de",
   "metadata": {},
   "outputs": [
    {
     "ename": "NameError",
     "evalue": "name 'onebike_durations' is not defined",
     "output_type": "error",
     "traceback": [
      "\u001b[1;31m---------------------------------------------------------------------------\u001b[0m",
      "\u001b[1;31mNameError\u001b[0m                                 Traceback (most recent call last)",
      "Cell \u001b[1;32mIn[1], line 2\u001b[0m\n\u001b[0;32m      1\u001b[0m \u001b[38;5;66;03m# What was the total duration of all trips?\u001b[39;00m\n\u001b[1;32m----> 2\u001b[0m total_elapsed_time \u001b[38;5;241m=\u001b[39m \u001b[38;5;28msum\u001b[39m(onebike_durations)\n\u001b[0;32m      4\u001b[0m \u001b[38;5;66;03m# What was the total number of trips?\u001b[39;00m\n\u001b[0;32m      5\u001b[0m number_of_trips \u001b[38;5;241m=\u001b[39m \u001b[38;5;28mlen\u001b[39m(onebike_durations)\n",
      "\u001b[1;31mNameError\u001b[0m: name 'onebike_durations' is not defined"
     ]
    }
   ],
   "source": [
    "# What was the total duration of all trips?\n",
    "total_elapsed_time = sum(onebike_durations)\n",
    "\n",
    "# What was the total number of trips?\n",
    "number_of_trips = len(onebike_durations)\n",
    "  \n",
    "# Divide the total duration by the number of trips to get the average trip length.\n",
    "print(total_elapsed_time / number_of_trips)"
   ]
  },
  {
   "cell_type": "markdown",
   "id": "a2b92375-5ec5-4de4-a8c6-62f325b9f25d",
   "metadata": {},
   "source": [
    "## The long and the short of why time is hard\n",
    "Out of 291 trips taken by W20529, how long was the longest? How short was the shortest? Does anything look fishy?\n",
    "\n",
    "As before, data has been loaded as onebike_durations.\n",
    "\n",
    "Calculate shortest_trip from onebike_durations.\n",
    "\n",
    "Calculate longest_trip from onebike_durations.\n",
    "\n",
    "Print the results, turning shortest_trip and longest_trip into strings so they can print."
   ]
  },
  {
   "cell_type": "code",
   "execution_count": null,
   "id": "afa11630-d990-41cd-86a9-cf42901bf0cb",
   "metadata": {},
   "outputs": [],
   "source": [
    "# Calculate shortest and longest trips\n",
    "shortest_trip = min(onebike_durations)\n",
    "longest_trip = max(onebike_durations)\n",
    "\n",
    "# Print out the results\n",
    "print(\"The shortest trip was \" + str(shortest_trip) + \" seconds\")\n",
    "print(\"The longest trip was \" + str(longest_trip) + \" seconds\")"
   ]
  },
  {
   "cell_type": "markdown",
   "id": "34ecf7a0-2dad-4bac-8172-f2c3cb558d83",
   "metadata": {},
   "source": [
    "# TIMEZONE AND DAYLIGHT SAVING"
   ]
  },
  {
   "cell_type": "markdown",
   "id": "65523130-6bb6-4574-86db-d63089ceae32",
   "metadata": {},
   "source": [
    "## Creating timezone aware datetimes\n",
    "In this exercise, you will practice setting timezones manually.\n",
    "\n",
    "Set dt's timezone to be pst.\n",
    "\n",
    "\n"
   ]
  },
  {
   "cell_type": "code",
   "execution_count": null,
   "id": "d4ead282-ecf9-4bfe-acec-f80f0d49ae67",
   "metadata": {},
   "outputs": [],
   "source": [
    "# Import datetime, timezone\n",
    "from datetime import datetime, timezone\n",
    "\n",
    "# Set the tzinfo to UTC, without using timedelta.\n",
    "# October 1, 2017 at 15:26:26, UTC\n",
    "dt = datetime(2017, 10, 1, 15, 26, 26, tzinfo=timezone.utc)\n",
    "\n",
    "# Print results\n",
    "print(dt.isoformat())\n",
    "\n",
    "\n",
    "# Set pst to be a timezone set for UTC-8. and Create a timezone for Pacific Standard Time, or UTC-8\n",
    "pst = timezone(timedelta(hours=-8))\n",
    "# October 1, 2017 at 15:26:26, UTC-8\n",
    "dt = datetime(2017, 10, 1, 15, 26, 26, tzinfo=pst)\n",
    "\n",
    "# Print results\n",
    "print(dt.isoformat())\n",
    "\n",
    "\n",
    "# Set aedt to be a timezone set for UTC\n",
    "# Create a timezone for Australian Eastern Daylight Time, or UTC+11 and Set dt's timezone to be aedt.\n",
    "aedt = timezone(timedelta(hours=+11))\n",
    "# October 1, 2017 at 15:26:26, UTC+11\n",
    "dt = datetime(2017, 10, 1, 15, 26, 26, tzinfo= aedt)\n",
    "\n",
    "# Print results\n",
    "print(dt.isoformat())"
   ]
  },
  {
   "cell_type": "markdown",
   "id": "9f80a769-3123-4e63-ad8b-36ef8d81baab",
   "metadata": {},
   "source": [
    "## Setting timezones\n",
    "Now that you have the hang of setting timezones one at a time, let's look at setting them for the first ten trips that W20529 took.\n",
    "\n",
    "timezone and timedelta have already been imported. Make the change using .replace()\n",
    "\n",
    "Create edt, a timezone object whose UTC offset is -4 hours.\n",
    "\n",
    "Within the for loop:\n",
    "Set the tzinfo for trip['start'].\n",
    "\n",
    "Set the tzinfo for trip['end']."
   ]
  },
  {
   "cell_type": "code",
   "execution_count": null,
   "id": "577a12e1-7d5d-4100-8ccb-847e8018c1eb",
   "metadata": {},
   "outputs": [],
   "source": [
    "# Create a timezone object corresponding to UTC-4\n",
    "edt = timezone(timedelta(hours=-4))\n",
    "\n",
    "# Loop over trips, updating the start and end datetimes to be in UTC-4\n",
    "for trip in onebike_datetimes[:10]:\n",
    "  # Update trip['start'] and trip['end']\n",
    "  trip['start'] = trip['start'].replace(tzinfo=edt)\n",
    "  trip['end'] = trip['end'].replace(tzinfo=edt)"
   ]
  },
  {
   "cell_type": "markdown",
   "id": "54285a4c-6f0f-44da-9cae-e78a65e9dc5f",
   "metadata": {},
   "source": [
    "# What time did the bike leave in UTC?\n",
    "Having set the timezone for the first ten rides that W20529 took, let's see what time the bike left in UTC. We've already loaded the results of the previous exercise into memory.\n",
    "\n",
    "\n",
    "Within the for loop, move dt to be in UTC. Use timezone.utc as a convenient shortcut for UTC."
   ]
  },
  {
   "cell_type": "code",
   "execution_count": null,
   "id": "38fae833-eef7-425c-b63a-39afec80fd52",
   "metadata": {},
   "outputs": [],
   "source": [
    "# Loop over the trips\n",
    "for trip in onebike_datetimes[:10]:\n",
    "  # Pull out the start\n",
    "  dt = trip['start']\n",
    "  # Move dt to be in UTC\n",
    "  dt = dt.astimezone(timezone.utc)\n",
    "  \n",
    "  # Print the start time in UTC\n",
    "  print('Original:', trip['start'], '| UTC:', dt.isoformat())"
   ]
  },
  {
   "cell_type": "markdown",
   "id": "01b0090e-90e3-4a17-ae6e-1eb751bbd6e6",
   "metadata": {},
   "source": [
    "# Putting the bike trips into the right time zone\n",
    "Instead of setting the timezones for W20529 by hand, let's assign them to their IANA timezone: 'America/New_York'. Since we know their political jurisdiction, we don't need to look up their UTC offset. Python will do that for us.\n",
    "\n",
    "Import tz from dateutil.\n",
    "\n",
    "Assign et to be the timezone 'America/New_York'.\n",
    "\n",
    "Within the for loop, set start and end to have et as their timezone (use .replace())."
   ]
  },
  {
   "cell_type": "code",
   "execution_count": null,
   "id": "e968255b-6b4d-4ad9-84b9-0ffb137c0945",
   "metadata": {},
   "outputs": [],
   "source": [
    "# Import tz\n",
    "from dateutil import tz\n",
    "\n",
    "# Create a timezone object for Eastern Time\n",
    "et = tz.gettz('America/New_York')\n",
    "\n",
    "# Loop over trips, updating the datetimes to be in Eastern Time\n",
    "for trip in onebike_datetimes[:10]:\n",
    "  # Update trip['start'] and trip['end']\n",
    "  trip['start'] = trip['start'].replace(tzinfo=et)\n",
    "  trip['end'] = trip['end'].replace(tzinfo=et)"
   ]
  },
  {
   "cell_type": "markdown",
   "id": "c0ae8c6b-aee3-41b6-bea8-367547b42024",
   "metadata": {},
   "source": [
    "# What time did the bike leave? (Global edition)\n",
    "When you need to move a datetime from one timezone into another, use .astimezone() and tz. Often you will be moving things into UTC, but for fun let's try moving things from 'America/New_York' into a few different time zones.\n"
   ]
  },
  {
   "cell_type": "code",
   "execution_count": 1,
   "id": "81ce1c6a-bbab-4c55-94b0-1033ce90c879",
   "metadata": {},
   "outputs": [],
   "source": [
    "# Set uk to be the timezone for the UK: 'Europe/London'. Change local to be in the uk timezone and assign it to notlocal.\n",
    "\n",
    "# Create the timezone object\n",
    "uk = tz.gettz(\"Europe/London\")\n",
    "\n",
    "# Pull out the start of the first trip\n",
    "local = onebike_datetimes[0]['start']\n",
    "\n",
    "# What time was it in the UK?\n",
    "notlocal = local.astimezone(uk)\n",
    "\n",
    "# Print them out and see the difference\n",
    "print(local.isoformat())\n",
    "print(notlocal.isoformat())"
   ]
  },
  {
   "cell_type": "code",
   "execution_count": null,
   "id": "4cd3487a-dd8d-4351-987e-8d0a26dd7856",
   "metadata": {},
   "outputs": [],
   "source": [
    "# Set ist to be the timezone for India: 'Asia/Kolkata'. Change local to be in the ist timezone and assign it to notlocal.\n",
    "\n",
    "# Create the timezone object\n",
    "ist = tz.gettz(\"Asia/Kolkata\")\n",
    "\n",
    "# Pull out the start of the first trip\n",
    "local = onebike_datetimes[0]['start']\n",
    "\n",
    "# What time was it in India?\n",
    "notlocal = local.astimezone(ist)\n",
    "\n",
    "# Print them out and see the difference\n",
    "print(local.isoformat())\n",
    "print(notlocal.isoformat())"
   ]
  },
  {
   "cell_type": "code",
   "execution_count": null,
   "id": "e744fb7e-5442-4ac8-bdfa-f94fb803e2f7",
   "metadata": {},
   "outputs": [],
   "source": [
    "# Set sm to be the timezone for Samoa: 'Pacific/Apia'. Change local to be in the sm timezone and assign it to notlocal.\n",
    "\n",
    "# Create the timezone object\n",
    "sm = tz.gettz(\"Pacific/Apia\")\n",
    "\n",
    "# Pull out the start of the first trip\n",
    "local = onebike_datetimes[0]['start']\n",
    "\n",
    "# What time was it in Samoa?\n",
    "notlocal = local.astimezone(sm)\n",
    "\n",
    "# Print them out and see the difference\n",
    "print(local.isoformat())\n",
    "print(notlocal.isoformat())"
   ]
  },
  {
   "cell_type": "markdown",
   "id": "0bd1bf3a-9a3d-4987-b118-f3ddc06684a1",
   "metadata": {},
   "source": [
    "# How many hours elapsed around daylight saving?\n",
    "Since our bike data takes place in the fall, you'll have to do something else to learn about the start of daylight savings time.\n",
    "\n",
    "Let's look at March 12, 2017, in the Eastern United States, when Daylight Saving kicked in at 2 AM.\n",
    "If you create a datetime for midnight that night, and add 6 hours to it, how much time will have elapsed?\n",
    "\n",
    "You already have a datetime called start, set for March 12, 2017 at midnight, set to the timezone 'America/New_York'.\n",
    "Add six hours to start and assign it to end. Look at the UTC offset for the two results."
   ]
  },
  {
   "cell_type": "code",
   "execution_count": null,
   "id": "7c0782b2-494c-4f29-8f84-c42b20dd0615",
   "metadata": {},
   "outputs": [],
   "source": [
    "# Import datetime, timedelta, tz, timezone\n",
    "from datetime import datetime, timedelta, timezone\n",
    "from dateutil import tz\n",
    "\n",
    "# Start on March 12, 2017, midnight, then add 6 hours\n",
    "start = datetime(2017, 3, 12, tzinfo = tz.gettz('America/New_York'))\n",
    "end = start + timedelta(hours=6)\n",
    "print(start.isoformat() + \" to \" + end.isoformat())"
   ]
  },
  {
   "cell_type": "code",
   "execution_count": null,
   "id": "ee10fa4b-2e66-434a-b9e0-9cff8a3b6c62",
   "metadata": {},
   "outputs": [],
   "source": [
    "# you added 6 hours, and got 6 AM, despite the fact that the clocks springing forward means only 5 hours would have actually elapsed!\n",
    "# Calculate the time between start and end. How much time does Python think has elapsed?\n",
    "\n",
    "# Import datetime, timedelta, tz, timezone\n",
    "from datetime import datetime, timedelta, timezone\n",
    "from dateutil import tz\n",
    "\n",
    "# Start on March 12, 2017, midnight, then add 6 hours\n",
    "start = datetime(2017, 3, 12, tzinfo = tz.gettz('America/New_York'))\n",
    "end = start + timedelta(hours=6)\n",
    "print(start.isoformat() + \" to \" + end.isoformat())\n",
    "\n",
    "# How many hours have elapsed?\n",
    "print((end - start).seconds/(60*60))"
   ]
  },
  {
   "cell_type": "code",
   "execution_count": null,
   "id": "b0ddddcb-c184-4069-95c7-c622721ce563",
   "metadata": {},
   "outputs": [],
   "source": [
    "# Move your datetime objects into UTC and calculate the elapsed time again. Once you're in UTC, what result do you get?\n",
    "\n",
    "# Import datetime, timedelta, tz, timezone\n",
    "from datetime import datetime, timedelta, timezone\n",
    "from dateutil import tz\n",
    "\n",
    "# Start on March 12, 2017, midnight, then add 6 hours\n",
    "start = datetime(2017, 3, 12, tzinfo = tz.gettz('America/New_York'))\n",
    "end = start + timedelta(hours=6)\n",
    "print(start.isoformat() + \" to \" + end.isoformat())\n",
    "\n",
    "# How many hours have elapsed?\n",
    "print((end - start).total_seconds()/(60*60))\n",
    "\n",
    "# What if we move to UTC?\n",
    "print((end.astimezone(timezone.utc) - start.astimezone(timezone.utc))\\\n",
    "      .total_seconds()/(60*60))"
   ]
  },
  {
   "cell_type": "markdown",
   "id": "5ff01d9c-fc16-4725-b238-8e534296a43a",
   "metadata": {},
   "source": [
    "# March 29, throughout a decade\n",
    "Daylight Saving rules are complicated: they're different in different places, they change over time, and they usually start on a Sunday (and so they move around the calendar).\n",
    "\n",
    "For example, in the United Kingdom, as of the time this lesson was written, Daylight Saving begins on the last Sunday in March. Let's look at the UTC offset for March 29, at midnight, for the years 2000 to 2010.\n",
    "\n",
    "Using tz, set the timezone for dt to be 'Europe/London'.\n",
    "\n",
    "Within the for loop:\n",
    "\n",
    "Use the .replace() method to change the year for dt to be y.\n",
    "\n",
    "Call .isoformat() on the result to observe the results."
   ]
  },
  {
   "cell_type": "markdown",
   "id": "abdd328a-f146-4819-8a4d-e970c337fc89",
   "metadata": {},
   "source": [
    "# Finding ambiguous datetimes\n",
    "At the end of lesson 2, we saw something anomalous in our bike trip duration data. Let's see if we can identify what the problem might be.\n",
    "\n",
    "The data is loaded as onebike_datetimes, and tz has already been imported from dateutil.\n",
    "\n",
    "Loop over the trips in onebike_datetimes:\n",
    "\n",
    "Print any rides whose start is ambiguous.\n",
    "\n",
    "Print any rides whose end is ambiguous."
   ]
  },
  {
   "cell_type": "code",
   "execution_count": null,
   "id": "3659a2f4-29a4-4e0f-8281-dfa3154935e3",
   "metadata": {},
   "outputs": [],
   "source": [
    "# Loop over trips\n",
    "for trip in onebike_datetimes:\n",
    "  # Rides with ambiguous start\n",
    "  if tz.datetime_ambiguous(trip['start']):\n",
    "    print(\"Ambiguous start at \" + str(trip['start']))\n",
    "  # Rides with ambiguous end\n",
    "  if tz.datetime_ambiguous(trip['end']):\n",
    "    print(\"Ambiguous end at \" + str(trip['end']))"
   ]
  },
  {
   "cell_type": "markdown",
   "id": "9bcff91f-2ad1-43c1-a99e-2fee14471cd3",
   "metadata": {},
   "source": [
    "# Cleaning daylight saving data with fold\n",
    "As we've just discovered, there is a ride in our data set which is being messed up by a Daylight Savings shift. Let's clean up the data set so we actually have a correct minimum ride length. We can use the fact that we know the end of the ride happened after the beginning to fix up the duration messed up by the shift out of Daylight Savings.\n",
    "\n",
    "Since Python does not handle tz.enfold() when doing arithmetic, we must put our datetime objects into UTC, where ambiguities have been resolved.\n",
    "\n",
    "onebike_datetimes is already loaded and in the right timezone. tz and timezone have been imported. Use tz.UTC for the timezone.\n",
    "\n",
    "\n",
    "Complete the if statement to be true only when a ride's start comes after its end.\n",
    "\n",
    "When start is after end, call tz.enfold() on the end so you know it refers to the one after the daylight savings time change.\n",
    "\n",
    "After the if statement, convert the start and end to UTC so you can make a proper comparison."
   ]
  },
  {
   "cell_type": "code",
   "execution_count": null,
   "id": "49d1bd1d-a89f-42ef-afeb-a5107df749fb",
   "metadata": {},
   "outputs": [],
   "source": [
    "trip_durations = []\n",
    "for trip in onebike_datetimes:\n",
    "  # When the start is later than the end, set the fold to be 1\n",
    "  if trip[\"start\"] > trip[\"end\"]:\n",
    "    trip['end'] = tz.enfold(trip['end'])\n",
    "  # Convert to UTC\n",
    "  start = trip['start'].astimezone(tz.UTC)\n",
    "  end = trip['end'].astimezone(tz.UTC)\n",
    "\n",
    "  # Subtract the difference\n",
    "  trip_length_seconds = (end-start).total_seconds()\n",
    "  trip_durations.append(trip_length_seconds)\n",
    "\n",
    "# Take the shortest trip duration\n",
    "print(\"Shortest trip: \" + str(min(trip_durations)))"
   ]
  },
  {
   "cell_type": "markdown",
   "id": "9c03e5f2-0a51-424d-a71c-570bb4d49cc2",
   "metadata": {},
   "source": [
    "# Loading a csv file in Pandas\n",
    "The capital_onebike.csv file covers the October, November and December rides of the Capital Bikeshare bike W20529.\n",
    "\n",
    "Here are the first two columns:\n",
    "\n",
    "Start date\t          End date\t...\n",
    "\n",
    "2017-10-01 15:23:25\t  2017-10-01 15:26:26\t...\n",
    "\n",
    "2017-10-01 15:42:57\t  2017-10-01 17:49:59\t...\n",
    "\n",
    "Import Pandas.\n",
    "\n",
    "Complete the call to read_csv() so that it correctly parses the date columns Start date and End date."
   ]
  },
  {
   "cell_type": "code",
   "execution_count": null,
   "id": "0aa98d32-bd92-4ca3-afcd-89632ea81b6b",
   "metadata": {},
   "outputs": [],
   "source": [
    "# Import pandas\n",
    "import pandas as pd\n",
    "\n",
    "# Load CSV into the rides variable\n",
    "rides = pd.read_csv('capital-onebike.csv', \n",
    "                    parse_dates = ['Start date', 'End date'])\n",
    "\n",
    "# Print the initial (0th) row\n",
    "print(rides.iloc[0])"
   ]
  },
  {
   "cell_type": "markdown",
   "id": "66968f54-4348-4b4e-8d7c-3b3555f734e9",
   "metadata": {},
   "source": [
    "# Making timedelta columns\n",
    "Earlier in this course, you wrote a loop to subtract datetime objects and determine how long our sample bike had been out of the docks. Now you'll do the same thing with Pandas.\n",
    "\n",
    "rides has already been loaded for you.\n",
    "\n",
    "Subtract the Start date column from the End date column to get a Series of timedeltas; assign the result to ride_durations.\n",
    "\n",
    "Convert ride_durations into seconds and assign the result to the 'Duration' column of rides."
   ]
  },
  {
   "cell_type": "code",
   "execution_count": null,
   "id": "5f8717fd-5fd5-4dcd-95f4-d240ce295918",
   "metadata": {},
   "outputs": [],
   "source": [
    "# Subtract the start date from the end date\n",
    "ride_durations = rides[\"End date\"] - rides[\"Start date\"]\n",
    "\n",
    "# Convert the results to seconds\n",
    "rides['Duration'] = ride_durations.dt.total_seconds()\n",
    "\n",
    "print(rides['Duration'].head())"
   ]
  },
  {
   "cell_type": "markdown",
   "id": "72285bd0-aaf8-4ac4-b530-cfa5c9d01669",
   "metadata": {},
   "source": [
    "# How many joyrides?\n",
    "Suppose you have a theory that some people take long bike rides before putting their bike back in the same dock. Let's call these rides \"joyrides\".\n",
    "\n",
    "You only have data on one bike, so while you can't draw any bigger conclusions, it's certainly worth a look.\n",
    "\n",
    "Are there many joyrides? How long were they in our data set? Use the median instead of the mean, because we know there are some very long trips in our data set that might skew the answer, and the median is less sensitive to outliers.\n",
    "\n",
    "Create a Pandas Series which is True when Start station and End station are the same, and assign the result to joyrides.\n",
    "\n",
    "Calculate the median duration of all rides.\n",
    "\n",
    "Calculate the median duration of joyrides."
   ]
  },
  {
   "cell_type": "code",
   "execution_count": 1,
   "id": "b9475526-8834-41fe-9439-69d449172f8b",
   "metadata": {},
   "outputs": [
    {
     "ename": "NameError",
     "evalue": "name 'rides' is not defined",
     "output_type": "error",
     "traceback": [
      "\u001b[1;31m---------------------------------------------------------------------------\u001b[0m",
      "\u001b[1;31mNameError\u001b[0m                                 Traceback (most recent call last)",
      "Cell \u001b[1;32mIn[1], line 2\u001b[0m\n\u001b[0;32m      1\u001b[0m \u001b[38;5;66;03m# Create joyrides\u001b[39;00m\n\u001b[1;32m----> 2\u001b[0m joyrides \u001b[38;5;241m=\u001b[39m (rides[\u001b[38;5;124m\"\u001b[39m\u001b[38;5;124mStart station\u001b[39m\u001b[38;5;124m\"\u001b[39m] \u001b[38;5;241m==\u001b[39m rides[\u001b[38;5;124m\"\u001b[39m\u001b[38;5;124mEnd station\u001b[39m\u001b[38;5;124m\"\u001b[39m])\n\u001b[0;32m      4\u001b[0m \u001b[38;5;66;03m# Total number of joyrides\u001b[39;00m\n\u001b[0;32m      5\u001b[0m \u001b[38;5;28mprint\u001b[39m(\u001b[38;5;124m\"\u001b[39m\u001b[38;5;132;01m{}\u001b[39;00m\u001b[38;5;124m rides were joyrides\u001b[39m\u001b[38;5;124m\"\u001b[39m\u001b[38;5;241m.\u001b[39mformat(joyrides\u001b[38;5;241m.\u001b[39msum()))\n",
      "\u001b[1;31mNameError\u001b[0m: name 'rides' is not defined"
     ]
    }
   ],
   "source": [
    "# Create joyrides\n",
    "joyrides = (rides[\"Start station\"] == rides[\"End station\"])\n",
    "\n",
    "# Total number of joyrides\n",
    "print(\"{} rides were joyrides\".format(joyrides.sum()))\n",
    "\n",
    "# Median of all rides\n",
    "print(\"The median duration overall was {:.2f} seconds\"\\\n",
    "      .format(rides['Duration'].median()))\n",
    "\n",
    "# Median of joyrides\n",
    "print(\"The median duration for joyrides was {:.2f} seconds\"\\\n",
    "      .format(rides[joyrides]['Duration'].median()))\n",
    "\n",
    "# {} → placeholder for a value.\n",
    "\n",
    "# : → introduces a format specifier.\n",
    "\n",
    "# .2f → means “format as a floating-point number with 2 digits after the decimal point.”"
   ]
  },
  {
   "cell_type": "markdown",
   "id": "3a30ab35-b505-43ac-9aa1-e96496fb899f",
   "metadata": {},
   "source": [
    "# It's getting cold outside, W20529\n",
    "Washington, D.C. has mild weather overall, but the average high temperature in October (68ºF / 20ºC) is certainly higher than the average high temperature in December (47ºF / 8ºC). People also travel more in December, and they work fewer days so they commute less.\n",
    "\n",
    "How might the weather or the season have affected the length of bike trips?"
   ]
  },
  {
   "cell_type": "code",
   "execution_count": null,
   "id": "040d1868-e18e-4d78-ab5d-7369946ca7a3",
   "metadata": {},
   "outputs": [],
   "source": [
    "# Resample rides to the daily level, based on the Start date column. Plot the .size() of each result\n",
    "# Import matplotlib\n",
    "import matplotlib.pyplot as plt\n",
    "\n",
    "# Resample rides to daily, take the size, plot the results\n",
    "rides.resample(\"D\", on = 'Start date')\\\n",
    "  .size()\\\n",
    "  .plot(ylim = [0, 15])\n",
    "\n",
    "# Show the results\n",
    "plt.show()"
   ]
  },
  {
   "cell_type": "code",
   "execution_count": null,
   "id": "7ccf3d13-7222-4eb4-9fab-ba1e109592ae",
   "metadata": {},
   "outputs": [],
   "source": [
    "# Since the daily time series is so noisy for this one bike, change the resampling to be monthly.\n",
    "# Import matplotlib\n",
    "import matplotlib.pyplot as plt\n",
    "\n",
    "# Resample rides to monthly, take the size, plot the results\n",
    "rides.resample(\"M\", on = 'Start date')\\\n",
    "  .size()\\\n",
    "  .plot(ylim = [0, 150])\n",
    "\n",
    "# Show the results\n",
    "plt.show()"
   ]
  },
  {
   "cell_type": "markdown",
   "id": "9176e557-363b-427a-a735-f5d10eb74b68",
   "metadata": {},
   "source": [
    "# Members vs casual riders over time\n",
    "Riders can either be \"Members\", meaning they pay yearly for the ability to take a bike at any time, or \"Casual\", meaning they pay at the kiosk attached to the bike dock.\n",
    "\n",
    "Do members and casual riders drop off at the same rate over October to December, or does one drop off faster than the other?\n",
    "\n",
    "As before, rides has been loaded for you. You're going to use the Pandas method .value_counts(), which returns the number of instances of each value in a Series. In this case, the counts of \"Member\" or \"Casual\".\n",
    "\n",
    "Set monthly_rides to be a resampled version of rides, by month, based on start date.\n",
    "\n",
    "Use the method .value_counts() to find out how many Member and Casual rides there were, and divide them by the total number of rides per month."
   ]
  },
  {
   "cell_type": "code",
   "execution_count": null,
   "id": "78be9072-e9c5-485a-9686-a11247a0a6d0",
   "metadata": {},
   "outputs": [],
   "source": [
    "# Resample rides to be monthly on the basis of Start date\n",
    "monthly_rides = rides.set_index('Start date').resample(\"M\")['Member type']\n",
    "\n",
    "# Take the ratio of the .value_counts() over the total number of rides\n",
    "print(monthly_rides.value_counts() / monthly_rides.size())"
   ]
  },
  {
   "cell_type": "markdown",
   "id": "2da09d87-b96d-4d6e-b617-a568145e19cc",
   "metadata": {},
   "source": [
    "# Combining groupby() and resample()\n",
    "A very powerful method in Pandas is .groupby(). Whereas .resample() groups rows by some time or date information, .groupby() groups rows based on the values in one or more columns. For example, rides.groupby('Member type').size() would tell us how many rides there were by member type in our entire DataFrame.\n",
    "\n",
    ".resample() can be called after .groupby(). For example, how long was the median ride by month, and by Membership type?\n",
    "\n",
    "Complete the .groupby() call to group by 'Member type', and the .resample() call to resample according to 'Start date', by month.\n",
    "\n",
    "Print the median Duration for each group."
   ]
  },
  {
   "cell_type": "code",
   "execution_count": null,
   "id": "513d77e9-7832-491c-937f-89b23954973f",
   "metadata": {},
   "outputs": [],
   "source": [
    "# Group rides by member type, and resample to the month\n",
    "grouped = rides.set_index('Start date').groupby('Member type')\\\n",
    "  .resample(\"M\")\n",
    "\n",
    "# Print the median duration for each group\n",
    "print(grouped[\"Duration\"].median())"
   ]
  },
  {
   "cell_type": "markdown",
   "id": "1588235a-47e6-43f1-8d06-160c9bd4bb20",
   "metadata": {},
   "source": [
    "# Timezones in Pandas\n",
    "Earlier in this course, you assigned a timezone to each datetime in a list. Now with Pandas you can do that with a single method call.\n",
    "\n",
    "(Note that, just as before, your data set actually includes some ambiguous datetimes on account of daylight saving; for now, we'll tell Pandas to not even try on those ones. Figuring them out would require more work.\n",
    "\n",
    "## dt.tz_convert() converts to a new timezone,\n",
    "\n",
    "## whereas dt.tz_localize() sets a timezone in the first place."
   ]
  },
  {
   "cell_type": "code",
   "execution_count": null,
   "id": "82a8777b-9a9b-46e1-973d-e60ffcc46d85",
   "metadata": {},
   "outputs": [],
   "source": [
    "# Make the Start date column timezone aware by localizing it to 'America/New_York' while ignoring any ambiguous datetimes.\n",
    "\n",
    "# Localize the Start date column to America/New_York\n",
    "rides['Start date'] = rides['Start date'].dt.tz_localize(\"America/New_York\", ambiguous='NaT')\n",
    "\n",
    "# Print first value\n",
    "print(rides['Start date'].iloc[0])\n",
    "\n",
    "# Now switch the Start date column to the timezone 'Europe/London' using the .dt.tz_convert() method.\n",
    "\n",
    "\n",
    "# Convert the Start date column to Europe/London\n",
    "rides['Start date'] = rides['Start date'].dt.tz_convert('Europe/London')\n",
    "\n",
    "# Print the new value\n",
    "print(rides['Start date'].iloc[0])"
   ]
  },
  {
   "cell_type": "markdown",
   "id": "b204f2e3-b84e-4c4c-aecf-92efa13e883d",
   "metadata": {},
   "source": [
    "# How long per weekday?\n",
    "Pandas has a number of datetime-related attributes within the .dt accessor. Many of them are ones you've encountered before, like .dt.month. Others are convenient and save time compared to standard Python, like .dt.day_name()"
   ]
  },
  {
   "cell_type": "code",
   "execution_count": null,
   "id": "7b8d70dc-a4a2-43c9-83e6-0e3eac96e45f",
   "metadata": {},
   "outputs": [],
   "source": [
    "# Add a column for the weekday of the start of the ride\n",
    "rides['Ride start weekday'] = rides['Start date'].dt.day_name()\n",
    "\n",
    "# Print the median trip time per weekday\n",
    "print(rides.groupby(\"Ride start weekday\")['Duration'].median())"
   ]
  },
  {
   "cell_type": "markdown",
   "id": "45833004-e005-4891-bdf1-cd5f3336af9b",
   "metadata": {},
   "source": [
    "# How long between rides?\n",
    "For your final exercise, let's take advantage of Pandas indexing to do something interesting. How much time elapsed between rides?"
   ]
  },
  {
   "cell_type": "code",
   "execution_count": null,
   "id": "7051be16-4bb3-40d1-bfe6-afcc829e09ac",
   "metadata": {},
   "outputs": [],
   "source": [
    "# Calculate the difference in the Start date of the current row and the End date of the previous row and assign it to rides['Time since'].\n",
    "# Shift the index of the end date up one; now subract it from the start date\n",
    "rides['Time since'] = rides['Start date'] - (rides[\"End date\"].shift(1))\n",
    "\n",
    "# Convert rides['Time since'] to seconds to make it easier to work with.\n",
    "# Move from a timedelta to a number of seconds, which is easier to work with\n",
    "rides['Time since'] = rides['Time since'].dt.total_seconds()\n",
    "\n",
    "# Resample rides to be in monthly buckets according to the Start date.\n",
    "# Resample to the month\n",
    "monthly = rides.set_index('Start date').resample(\"M\")\n",
    "\n",
    "# Divide the average by (60*60) to get the number of hours on average that W20529 waited in the dock before being picked up again.\n",
    "# Print the average hours between rides each month\n",
    "print(monthly['Time since'].mean()/(60*60))"
   ]
  },
  {
   "cell_type": "code",
   "execution_count": null,
   "id": "a28c1ea3-be8f-4731-a0c9-59d42410938f",
   "metadata": {},
   "outputs": [],
   "source": []
  },
  {
   "cell_type": "code",
   "execution_count": null,
   "id": "95616d35-f5f9-49ae-a09f-dccdff44816d",
   "metadata": {},
   "outputs": [],
   "source": []
  },
  {
   "cell_type": "code",
   "execution_count": null,
   "id": "d788ab74-2d35-4f07-9ed2-1739d5205f08",
   "metadata": {},
   "outputs": [],
   "source": []
  },
  {
   "cell_type": "code",
   "execution_count": null,
   "id": "facd3bc3-f79f-4021-a554-0c2460acfaa9",
   "metadata": {},
   "outputs": [],
   "source": []
  },
  {
   "cell_type": "code",
   "execution_count": null,
   "id": "932e35b7-741c-43e9-8e6f-d77a197b9009",
   "metadata": {},
   "outputs": [],
   "source": []
  },
  {
   "cell_type": "code",
   "execution_count": null,
   "id": "13c3ea67-e26c-4d48-a818-9e817daba79e",
   "metadata": {},
   "outputs": [],
   "source": []
  }
 ],
 "metadata": {
  "kernelspec": {
   "display_name": "Python 3 (ipykernel)",
   "language": "python",
   "name": "python3"
  },
  "language_info": {
   "codemirror_mode": {
    "name": "ipython",
    "version": 3
   },
   "file_extension": ".py",
   "mimetype": "text/x-python",
   "name": "python",
   "nbconvert_exporter": "python",
   "pygments_lexer": "ipython3",
   "version": "3.12.7"
  }
 },
 "nbformat": 4,
 "nbformat_minor": 5
}
